{
 "cells": [
  {
   "cell_type": "markdown",
   "metadata": {
    "toc": true
   },
   "source": [
    "<h1>Table of Contents<span class=\"tocSkip\"></span></h1>\n",
    "<div class=\"toc\"><ul class=\"toc-item\"><li><span><a href=\"#Question-1-:-The-$T=1$-case\" data-toc-modified-id=\"Question-1-:-The-$T=1$-case-1\"><span class=\"toc-item-num\">1&nbsp;&nbsp;</span>Question 1 : The $T=1$ case</a></span><ul class=\"toc-item\"><li><span><a href=\"#Question-1.1-:-Recognizing-a-known-problem\" data-toc-modified-id=\"Question-1.1-:-Recognizing-a-known-problem-1.1\"><span class=\"toc-item-num\">1.1&nbsp;&nbsp;</span>Question 1.1 : Recognizing a known problem</a></span></li><li><span><a href=\"#Question-1.2-:-Solving-the-problem\" data-toc-modified-id=\"Question-1.2-:-Solving-the-problem-1.2\"><span class=\"toc-item-num\">1.2&nbsp;&nbsp;</span>Question 1.2 : Solving the problem</a></span></li></ul></li><li><span><a href=\"#Question-2-The-$T=2$-case\" data-toc-modified-id=\"Question-2-The-$T=2$-case-2\"><span class=\"toc-item-num\">2&nbsp;&nbsp;</span>Question 2 The $T=2$ case</a></span><ul class=\"toc-item\"><li><span><a href=\"#Question-2.1\" data-toc-modified-id=\"Question-2.1-2.1\"><span class=\"toc-item-num\">2.1&nbsp;&nbsp;</span>Question 2.1</a></span></li><li><span><a href=\"#Question-2.2-:-upper-bound\" data-toc-modified-id=\"Question-2.2-:-upper-bound-2.2\"><span class=\"toc-item-num\">2.2&nbsp;&nbsp;</span>Question 2.2 : upper bound</a></span></li><li><span><a href=\"#Question-2.3-:-Splitted-variables-formulation\" data-toc-modified-id=\"Question-2.3-:-Splitted-variables-formulation-2.3\"><span class=\"toc-item-num\">2.3&nbsp;&nbsp;</span>Question 2.3 : Splitted variables formulation</a></span></li><li><span><a href=\"#Question-2.4-:-anticipative-bound\" data-toc-modified-id=\"Question-2.4-:-anticipative-bound-2.4\"><span class=\"toc-item-num\">2.4&nbsp;&nbsp;</span>Question 2.4 : anticipative bound</a></span></li><li><span><a href=\"#Question-2.5-:-two-stage-bound\" data-toc-modified-id=\"Question-2.5-:-two-stage-bound-2.5\"><span class=\"toc-item-num\">2.5&nbsp;&nbsp;</span>Question 2.5 : two-stage bound</a></span></li></ul></li><li><span><a href=\"#Question-3-:-Heuristics-and-bounds-in-long-horizon\" data-toc-modified-id=\"Question-3-:-Heuristics-and-bounds-in-long-horizon-3\"><span class=\"toc-item-num\">3&nbsp;&nbsp;</span>Question 3 : Heuristics and bounds in long horizon</a></span><ul class=\"toc-item\"><li><span><a href=\"#Question-3.1\" data-toc-modified-id=\"Question-3.1-3.1\"><span class=\"toc-item-num\">3.1&nbsp;&nbsp;</span>Question 3.1</a></span></li><li><span><a href=\"#Question-3.2-:-anticipative-bound\" data-toc-modified-id=\"Question-3.2-:-anticipative-bound-3.2\"><span class=\"toc-item-num\">3.2&nbsp;&nbsp;</span>Question 3.2 : anticipative bound</a></span></li><li><span><a href=\"#Question-3.3-Writing-a-simulator\" data-toc-modified-id=\"Question-3.3-Writing-a-simulator-3.3\"><span class=\"toc-item-num\">3.3&nbsp;&nbsp;</span>Question 3.3 Writing a simulator</a></span></li><li><span><a href=\"#Question-3.4\" data-toc-modified-id=\"Question-3.4-3.4\"><span class=\"toc-item-num\">3.4&nbsp;&nbsp;</span>Question 3.4</a></span></li><li><span><a href=\"#Question-3.5\" data-toc-modified-id=\"Question-3.5-3.5\"><span class=\"toc-item-num\">3.5&nbsp;&nbsp;</span>Question 3.5</a></span></li><li><span><a href=\"#Question-3.6\" data-toc-modified-id=\"Question-3.6-3.6\"><span class=\"toc-item-num\">3.6&nbsp;&nbsp;</span>Question 3.6</a></span></li><li><span><a href=\"#Question-3.7-(Optional)\" data-toc-modified-id=\"Question-3.7-(Optional)-3.7\"><span class=\"toc-item-num\">3.7&nbsp;&nbsp;</span>Question 3.7 (Optional)</a></span></li></ul></li><li><span><a href=\"#Question-4-Dynamic-Programming\" data-toc-modified-id=\"Question-4-Dynamic-Programming-4\"><span class=\"toc-item-num\">4&nbsp;&nbsp;</span>Question 4 Dynamic Programming</a></span><ul class=\"toc-item\"><li><span><a href=\"#Question-4.1-:-integrity-of-stock\" data-toc-modified-id=\"Question-4.1-:-integrity-of-stock-4.1\"><span class=\"toc-item-num\">4.1&nbsp;&nbsp;</span>Question 4.1 : integrity of stock</a></span></li><li><span><a href=\"#Question-4.2\" data-toc-modified-id=\"Question-4.2-4.2\"><span class=\"toc-item-num\">4.2&nbsp;&nbsp;</span>Question 4.2</a></span></li><li><span><a href=\"#Question-4.3\" data-toc-modified-id=\"Question-4.3-4.3\"><span class=\"toc-item-num\">4.3&nbsp;&nbsp;</span>Question 4.3</a></span></li><li><span><a href=\"#Question-4.4\" data-toc-modified-id=\"Question-4.4-4.4\"><span class=\"toc-item-num\">4.4&nbsp;&nbsp;</span>Question 4.4</a></span></li></ul></li></ul></div>"
   ]
  },
  {
   "cell_type": "markdown",
   "metadata": {
    "deletable": false,
    "editable": false,
    "nbgrader": {
     "cell_type": "markdown",
     "checksum": "8e61d5f4fecdfd55142b9bd6d24b402a",
     "grade": false,
     "grade_id": "cell-3b5c45c98c441179",
     "locked": true,
     "schema_version": 3,
     "solution": false,
     "task": false
    }
   },
   "source": [
    "# The flower girl problem <a class=\"tocSkip\">"
   ]
  },
  {
   "cell_type": "markdown",
   "metadata": {
    "deletable": false,
    "editable": false,
    "nbgrader": {
     "cell_type": "markdown",
     "checksum": "27b70a611a6b7be0915552bb93efadd0",
     "grade": false,
     "grade_id": "cell-4fb61d449cc1a0b4",
     "locked": true,
     "schema_version": 3,
     "solution": false,
     "task": false
    }
   },
   "source": [
    "Assume that every morning you can buy some flower at cost $c$, during the day you can sell them at price $p$. At the end of the day you can keep the flowers for the next day.\n",
    "During each day the demand is an integer uniformly taken between $1$ and $D$.\n",
    "\n",
    "At the start of your first day you have no flower in stock. At the end of the $T^{th}$ day all stock is lost. You want to minimize your expected loss summed over the $T$ days. We will denote $u_t$ the number of flower bought at the beginning of day $t$. We assume that $u_t\\in [0,U]$ (in particular we assume that it is continuous).\n",
    "\n",
    "The parameters are set as follow."
   ]
  },
  {
   "cell_type": "code",
   "execution_count": 1,
   "metadata": {},
   "outputs": [
    {
     "name": "stderr",
     "output_type": "stream",
     "text": [
      "\u001b[32m\u001b[1m    Updating\u001b[22m\u001b[39m registry at `C:\\Users\\jc\\.julia\\registries\\General`\n",
      "\u001b[32m\u001b[1m    Updating\u001b[22m\u001b[39m git-repo `https://github.com/JuliaRegistries/General.git`\n",
      "\u001b[32m\u001b[1m   Resolving\u001b[22m\u001b[39m package versions...\n",
      "\u001b[32m\u001b[1m  No Changes\u001b[22m\u001b[39m to `C:\\Users\\jc\\.julia\\environments\\v1.6\\Project.toml`\n",
      "\u001b[32m\u001b[1m  No Changes\u001b[22m\u001b[39m to `C:\\Users\\jc\\.julia\\environments\\v1.6\\Manifest.toml`\n",
      "\u001b[32m\u001b[1m   Resolving\u001b[22m\u001b[39m package versions...\n",
      "\u001b[32m\u001b[1m  No Changes\u001b[22m\u001b[39m to `C:\\Users\\jc\\.julia\\environments\\v1.6\\Project.toml`\n",
      "\u001b[32m\u001b[1m  No Changes\u001b[22m\u001b[39m to `C:\\Users\\jc\\.julia\\environments\\v1.6\\Manifest.toml`\n"
     ]
    }
   ],
   "source": [
    "# If not installed yet\n",
    "import Pkg\n",
    "Pkg.add(\"JuMP\")\n",
    "Pkg.add(\"GLPK\")"
   ]
  },
  {
   "cell_type": "code",
   "execution_count": 2,
   "metadata": {
    "deletable": false,
    "editable": false,
    "nbgrader": {
     "cell_type": "code",
     "checksum": "02b8d51e253a1fbf97deeea6fb8f2138",
     "grade": false,
     "grade_id": "cell-8b44c3425eb6a2ff",
     "locked": true,
     "schema_version": 3,
     "solution": false,
     "task": false
    }
   },
   "outputs": [
    {
     "data": {
      "text/plain": [
       "7"
      ]
     },
     "execution_count": 2,
     "metadata": {},
     "output_type": "execute_result"
    }
   ],
   "source": [
    "using JuMP, GLPK, Statistics\n",
    "\n",
    "OPTIMIZER = GLPK.Optimizer\n",
    "\n",
    "# problem parameters\n",
    "c = 1  # cost of buying\n",
    "p = 2  # cost of selling\n",
    "D = 10 # demand is uniform over 1:D\n",
    "U = 7  # maximum buy per day"
   ]
  },
  {
   "cell_type": "markdown",
   "metadata": {
    "deletable": false,
    "editable": false,
    "heading_collapsed": true,
    "nbgrader": {
     "cell_type": "markdown",
     "checksum": "65d39754f74abd06d013b7441a14226c",
     "grade": false,
     "grade_id": "cell-5426b49c2e22cc04",
     "locked": true,
     "schema_version": 3,
     "solution": false,
     "task": false
    }
   },
   "source": [
    "## Question 1 : The $T=1$ case"
   ]
  },
  {
   "cell_type": "markdown",
   "metadata": {
    "deletable": false,
    "editable": false,
    "hidden": true,
    "nbgrader": {
     "cell_type": "markdown",
     "checksum": "4df5c40ad7503cffaf7098e2e9012755",
     "grade": false,
     "grade_id": "cell-a04ec1f157fa9592",
     "locked": true,
     "schema_version": 3,
     "solution": false,
     "task": false
    }
   },
   "source": [
    "### Question 1.1 : Recognizing a known problem\n",
    "\n",
    "If $T=1$, recognize the flower girl problem as a known optimization problem ? "
   ]
  },
  {
   "cell_type": "markdown",
   "metadata": {
    "deletable": false,
    "hidden": true,
    "nbgrader": {
     "cell_type": "markdown",
     "checksum": "ffd963b122e8beca40bcaa9819128bc9",
     "grade": true,
     "grade_id": "cell-19601ccf7e279aca",
     "locked": false,
     "points": 1,
     "schema_version": 3,
     "solution": true,
     "task": false
    }
   },
   "source": [
    "Newsvender!"
   ]
  },
  {
   "cell_type": "markdown",
   "metadata": {
    "deletable": false,
    "editable": false,
    "hidden": true,
    "nbgrader": {
     "cell_type": "markdown",
     "checksum": "e5070ef9ffcaba823539f892041d54dc",
     "grade": false,
     "grade_id": "cell-a48b40722a3f045f",
     "locked": true,
     "schema_version": 3,
     "solution": false,
     "task": false
    }
   },
   "source": [
    "### Question 1.2 : Solving the problem\n",
    "\n",
    "Write the extensive formulation of the problem as an LP and solve it using `JuMP` and a linear solver."
   ]
  },
  {
   "cell_type": "markdown",
   "metadata": {},
   "source": [
    "##### Solution \n",
    "\n",
    "The extensive formultaion of the problem is:- \n",
    "$$Min ~~~ P\\sum_{i = 1}^{D} cu - pv_i$$\n",
    "Subject to\n",
    "$$u \\leq U$$\n",
    "$$v_i \\leq u$$\n",
    "$$v_i \\leq d_{Ti}$$\n",
    "\n",
    "Where,\n",
    "<ol>\n",
    "<li> $P = \\frac{1}{D}~$ </li>\n",
    "<li> $u \\equiv $ Quantity of flowers to be bought at the beginning of the day </li>\n",
    "<li> $v_i \\equiv $ Quantity of sold flowers at the end of the day for each scenario $i$ </li>\n",
    "<ol>"
   ]
  },
  {
   "cell_type": "code",
   "execution_count": 15,
   "metadata": {
    "deletable": false,
    "hidden": true,
    "nbgrader": {
     "cell_type": "code",
     "checksum": "165ace07ab10e1d7e489af0c713ff407",
     "grade": true,
     "grade_id": "cell-62ad9151fc259322",
     "locked": false,
     "points": 0,
     "schema_version": 3,
     "solution": true,
     "task": false
    }
   },
   "outputs": [],
   "source": [
    "T = 1\n",
    "P = 1/D \n",
    "\n",
    "d = zeros(T,D)\n",
    "for s = 1:D\n",
    "    d[:,s] .= s # d[1,s] is the demand at time 1 for scenario s\n",
    "end"
   ]
  },
  {
   "cell_type": "code",
   "execution_count": 16,
   "metadata": {},
   "outputs": [],
   "source": [
    "# lINEAR PROGRAM \n",
    "\n",
    "# Defining the MODEL\n",
    "m = Model(with_optimizer(OPTIMIZER))  \n",
    "\n",
    "# Variables \n",
    "@variable(m, u>=0)                      # The number of the bought flowers must be non-negative \n",
    "@variable(m, v[1:D]>=0)                 # The number of sold flowers couldn't be negative \n",
    "\n",
    "# Objective Function\n",
    "@objective(m,Min, P*sum(c*u-p*v[i] for i=1:D))             # Minimizing the COST function \n",
    "\n",
    "# Constraints \n",
    "@constraints(m,begin \n",
    "            u <= U                                 # We can't buy more than 7 flowers \n",
    "            [i in 1:D], v[i] <= u                  # We can't sell more than what we have already bought \n",
    "            [i in 1:D], v[i] <= d[T,i]             # We can't sell more than the DEMAND \n",
    "    end\n",
    "    )\n",
    "\n",
    "optimize!(m)"
   ]
  },
  {
   "cell_type": "code",
   "execution_count": 17,
   "metadata": {},
   "outputs": [
    {
     "name": "stdout",
     "output_type": "stream",
     "text": [
      "Objective Value = -3.0000000000000018\n",
      "u = 5.0\n",
      "v = [1.0, 2.0, 3.0, 4.0, 5.0, 5.0, 5.0, 5.0, 5.0, 5.0]"
     ]
    }
   ],
   "source": [
    "# RESULTS \n",
    "\n",
    "println(\"Objective Value = \",objective_value(m))\n",
    "println(\"u = \",value.(u))\n",
    "print(\"v = \",value.(v))"
   ]
  },
  {
   "cell_type": "code",
   "execution_count": null,
   "metadata": {
    "deletable": false,
    "editable": false,
    "nbgrader": {
     "cell_type": "code",
     "checksum": "a5c7f868c20e9bf4ec42abe353a43178",
     "grade": true,
     "grade_id": "cell-af6402449c96be07",
     "locked": true,
     "points": 1,
     "schema_version": 3,
     "solution": false,
     "task": false
    }
   },
   "outputs": [],
   "source": []
  },
  {
   "cell_type": "markdown",
   "metadata": {
    "deletable": false,
    "editable": false,
    "heading_collapsed": true,
    "nbgrader": {
     "cell_type": "markdown",
     "checksum": "e2b53525791c32da1fd74e3446fbb094",
     "grade": false,
     "grade_id": "cell-269ff1e5e3b6ff16",
     "locked": true,
     "schema_version": 3,
     "solution": false,
     "task": false
    }
   },
   "source": [
    "## Question 2 The $T=2$ case\n",
    "\n",
    "We consider now that $T=2$."
   ]
  },
  {
   "cell_type": "markdown",
   "metadata": {
    "deletable": false,
    "editable": false,
    "hidden": true,
    "nbgrader": {
     "cell_type": "markdown",
     "checksum": "352004bc753e6fbf12c8772a67bc87f6",
     "grade": false,
     "grade_id": "cell-086f3b45de181463",
     "locked": true,
     "schema_version": 3,
     "solution": false,
     "task": false
    }
   },
   "source": [
    "### Question 2.1 \n",
    "From Question 1 deduce an upper bound to this problem."
   ]
  },
  {
   "cell_type": "markdown",
   "metadata": {
    "deletable": false,
    "hidden": true,
    "nbgrader": {
     "cell_type": "markdown",
     "checksum": "4182af731fd68c75200c0aa6f68340ea",
     "grade": true,
     "grade_id": "cell-d76e3a7800a1389e",
     "locked": false,
     "points": 1,
     "schema_version": 3,
     "solution": true,
     "task": false
    }
   },
   "source": [
    "###### Solution \n",
    "\n",
    "The **upper bound** is indeed the **objective value** of $Q1.2$ (<font color='red'>$UP = -3.0000000000000018 \\approx -3$</font>)\n",
    "\n",
    "Because, in this case if you didn't sell all the flowers in the $1^{st}$ day, you are able to keep them for the $2^{nd}$ day. Hence there is a probability of selling more flowers and therefore gain more money (minimizing your cost) even if you didn't buy any flowers at the begining of the $2^{nd}$ day. \n",
    "\n",
    "Thus, **at least** you will gain the same as the $1^{st}$ day."
   ]
  },
  {
   "cell_type": "markdown",
   "metadata": {
    "deletable": false,
    "editable": false,
    "hidden": true,
    "nbgrader": {
     "cell_type": "markdown",
     "checksum": "e3530d4c953b7eea269e866b68c9f25c",
     "grade": false,
     "grade_id": "cell-2b61c60eca9234a4",
     "locked": true,
     "schema_version": 3,
     "solution": false,
     "task": false
    }
   },
   "source": [
    "### Question 2.2 : upper bound\n",
    "Solve the flower-girl problem with a stochastic programming approach, by solving the associated extensive formulation."
   ]
  },
  {
   "cell_type": "markdown",
   "metadata": {},
   "source": [
    "##### Solution \n",
    "\n",
    "The extensive formultaion of the problem is:- \n",
    "$$Min ~~~ P\\sum_{i = 1}^{D} cu - pz_i + P^2\\sum_{i = 1}^{D} \\sum_{j = 1}^{D} cw_i - pv_{ij}$$\n",
    "Subject to\n",
    "$$u \\leq U ~~~~ \\dots\\dots (1)$$ \n",
    "$\\forall ~i = 1 \\dots D$\n",
    "\\begin{cases} w_i \\leq U ~~~~ \\dots\\dots (2)\\\\ \n",
    "z_i \\leq u ~~~~ \\dots\\dots (3)\\\\\n",
    "w_i \\leq d_{1i} ~~~~ \\dots\\dots (4)\\\\ \n",
    "z_i \\leq d_{1i} ~~~~ \\dots\\dots (5)\n",
    "\\end{cases}\n",
    "$\\forall ~i,j = 1 \\dots D$\n",
    "\\begin{cases}\n",
    "v_{ij} \\leq d_{2i} ~~~~ \\dots\\dots (6)\\\\ \n",
    "v_{ij} \\leq u - z_i + w_i ~~~~ \\dots\\dots (7)\n",
    "\\end{cases}\n",
    "\n",
    "\n",
    "\n",
    "Where,\n",
    "1. $P = \\frac{1}{D}~$ </li>\n",
    "2. $u \\equiv $ Quantity of flowers to be bought at the beginning of the $1^{st}$ day \n",
    "3. $z_i \\equiv$ Quantity of sold flowers at the end of the $1^{st}$ day for each scenario $i$\n",
    "3. $w_i \\equiv $ Quantity of flowers to be bought at the beginning of the $2^{nd}$ day for each scenario $i$\n",
    "4. $v_{ij} \\equiv$ Quantity of sold flowers at the end of the $2^{nd}$ day for each scenario $i$ and each scenario $j$\n",
    "\n",
    "**Interpretation of the Constraints**\n",
    "1. Constraints (1) & (2): We can't buy more that 7 flowers in any day.\n",
    "2. Constraint (3): At the $1^{st}$ day, we can't sell more than what we have already bought at the beginning of the day.\n",
    "3. Constraints (4) & (5): $z_i ~\\& ~ w_i$ are measurable w.r.t $d_1$.\n",
    "4. Constraints (5) & (6): We can't sell more than the demand in any day.\n",
    "5. Constraint (6): $v_{ij}$ is measurable w.r.t $d_1$ as well as $d_2$.\n",
    "6. Constraint (7): At the $2^{nd}$ day, we can't sell more than what we have bought at the beginning of the $2^{nd}$ day in addition to the remaining of the $1^{st}$ day ($i.e$ the difference between how much we bought and how much we sold)."
   ]
  },
  {
   "cell_type": "code",
   "execution_count": 18,
   "metadata": {
    "deletable": false,
    "hidden": true,
    "nbgrader": {
     "cell_type": "code",
     "checksum": "1531c3bea0dc843809b4b05a6c62b3bd",
     "grade": true,
     "grade_id": "cell-49b019f77f1fa48",
     "locked": false,
     "points": 0,
     "schema_version": 3,
     "solution": true,
     "task": false
    }
   },
   "outputs": [],
   "source": [
    "T = 2\n",
    "P = 1/D\n",
    "PP = 1/D^2\n",
    "\n",
    "d = zeros(T,D) #d(t,s) is the demand for realisation s at time t\n",
    "for s in 1:D\n",
    "    d[:,s] .= s \n",
    "end"
   ]
  },
  {
   "cell_type": "code",
   "execution_count": 20,
   "metadata": {},
   "outputs": [],
   "source": [
    "# LINEAR PROGRAM\n",
    "\n",
    "# Defining the MODEL \n",
    "m = Model(with_optimizer(OPTIMIZER))\n",
    "\n",
    "# Variables \n",
    "@variable(m,u>=0)                   # Number of flowers to be bought at the beginning of the first day                   \n",
    "@variable(m,w[1:D]>= 0)             # Number of flowers to be bought at the beginning of the second day         \n",
    "@variable(m,z[1:D]>= 0)             # Number of the sold flowers at the end of the first day         \n",
    "@variable(m,v[1:D, 1:D]>=0)         # Number of the sold flowers at the end of the second day\n",
    "\n",
    "# Objective Function \n",
    "@objective(m,Min, (P*sum(c*u - p*z[i] for i=1:D)) + (PP*sum(c*w[i] - p*v[i,j] for i=1:D , j=1:D)))  # Minimizing the COST function    \n",
    "\n",
    "# Constraints \n",
    "@constraint(m, u <= U)\n",
    "\n",
    "for i=1:D\n",
    "    @constraint(m, w[i] <= U)\n",
    "    @constraint(m, z[i] <= d[1,i])\n",
    "    @constraint(m, z[i] <= u)\n",
    "    @constraint(m, w[i] <= d[1,i])\n",
    "end\n",
    "\n",
    "for i=1:D , j=1:D\n",
    "    @constraint(m, v[i,j] <= d[2,j])\n",
    "    @constraint(m, v[i,j] <= u - z[i] + w[i])\n",
    "end\n",
    "\n",
    "optimize!(m)"
   ]
  },
  {
   "cell_type": "code",
   "execution_count": 27,
   "metadata": {},
   "outputs": [
    {
     "name": "stdout",
     "output_type": "stream",
     "text": [
      "Objective Value = -7.899999999999992\n",
      "u = 7.0\n",
      "z = [1.0, 2.0, 3.0, 4.0, 5.0, 6.0, 7.0, 7.0, 7.0, 7.0]\n",
      "w = [0.0, 0.0, 1.0, 2.0, 3.0, 4.0, 5.0, 5.0, 5.0, 5.0]\n",
      "v = \n",
      "10×10 Matrix{Float64}:\n",
      " 1.0  2.0  3.0  4.0  5.0  6.0  6.0  6.0  6.0  6.0\n",
      " 1.0  2.0  3.0  4.0  5.0  5.0  5.0  5.0  5.0  5.0\n",
      " 1.0  2.0  3.0  4.0  5.0  5.0  5.0  5.0  5.0  5.0\n",
      " 1.0  2.0  3.0  4.0  5.0  5.0  5.0  5.0  5.0  5.0\n",
      " 1.0  2.0  3.0  4.0  5.0  5.0  5.0  5.0  5.0  5.0\n",
      " 1.0  2.0  3.0  4.0  5.0  5.0  5.0  5.0  5.0  5.0\n",
      " 1.0  2.0  3.0  4.0  5.0  5.0  5.0  5.0  5.0  5.0\n",
      " 1.0  2.0  3.0  4.0  5.0  5.0  5.0  5.0  5.0  5.0\n",
      " 1.0  2.0  3.0  4.0  5.0  5.0  5.0  5.0  5.0  5.0\n",
      " 1.0  2.0  3.0  4.0  5.0  5.0  5.0  5.0  5.0  5.0"
     ]
    }
   ],
   "source": [
    "# RESULTS \n",
    "\n",
    "println(\"Objective Value = \",objective_value(m))\n",
    "println(\"u = \",value.(u))\n",
    "println(\"z = \",value.(z))\n",
    "println(\"w = \",value.(w))\n",
    "println(\"v = \")\n",
    "show(stdout, \"text/plain\", value.(v))"
   ]
  },
  {
   "cell_type": "code",
   "execution_count": null,
   "metadata": {
    "deletable": false,
    "editable": false,
    "nbgrader": {
     "cell_type": "code",
     "checksum": "6312ad6d5fbd65b159c75683f84bf7c7",
     "grade": true,
     "grade_id": "cell-8b4e2c575700e47a",
     "locked": true,
     "points": 2,
     "schema_version": 3,
     "solution": false,
     "task": false
    }
   },
   "outputs": [],
   "source": []
  },
  {
   "cell_type": "markdown",
   "metadata": {
    "deletable": false,
    "editable": false,
    "nbgrader": {
     "cell_type": "markdown",
     "checksum": "f20eade8bf1961e64326aa2480f746ef",
     "grade": false,
     "grade_id": "cell-f6586972911f53d",
     "locked": true,
     "schema_version": 3,
     "solution": false,
     "task": false
    }
   },
   "source": [
    "### Question 2.3 : Splitted variables formulation\n",
    "\n",
    "We give the flower-girl problem for $2$ time step with splitted variables.\n",
    "Check that you obtain the same value as before.  "
   ]
  },
  {
   "cell_type": "code",
   "execution_count": 7,
   "metadata": {
    "deletable": false,
    "editable": false,
    "nbgrader": {
     "cell_type": "code",
     "checksum": "38ca27078cb74c3d454ea1fbc6a7dc96",
     "grade": false,
     "grade_id": "cell-5cd9af47e32a0d",
     "locked": true,
     "schema_version": 3,
     "solution": false,
     "task": false
    }
   },
   "outputs": [
    {
     "name": "stdout",
     "output_type": "stream",
     "text": [
      "objective_value(m) = -7.899999999999949\n"
     ]
    },
    {
     "data": {
      "text/plain": [
       "-7.899999999999949"
      ]
     },
     "execution_count": 7,
     "metadata": {},
     "output_type": "execute_result"
    }
   ],
   "source": [
    "T = 2\n",
    "\n",
    "d = zeros(T,D,D) # d(t,s,ss) is the demand for scenario (s,ss) at time t\n",
    "for s = 1:D, ss = 1:D\n",
    "    d[1,s,ss] = s\n",
    "    d[2,s,ss] = ss\n",
    "end\n",
    "\n",
    "\n",
    "m = Model(with_optimizer(OPTIMIZER))\n",
    "\n",
    "@variables(m,begin\n",
    "    0<= u[1:T,1:D,1:D] <= U  # bought flowers at beginning of day t\n",
    "    v[1:T,1:D,1:D] >= 0      # sold flowers during day t\n",
    "    end)     \n",
    "\n",
    "@objective(m, Min, 1/D^2*sum(c*u[t,s,ss]-p*v[t,s,ss] for t = 1:T, s = 1:D, ss = 1:D))\n",
    "\n",
    "for t = 1:T, s = 1:D, ss = 1:D\n",
    "    @constraint(m, v[t,s,ss] <= d[t,s,ss])                     # we sell no more than demand\n",
    "    @constraint(m, sum(v[tt,s,ss]-u[tt,s,ss] for tt=1:t) <= 0) # we sell no more than stock\n",
    "end\n",
    "\n",
    "    ### u1 is deterministic - i.e. the same for all scenarios\n",
    "for s = 1:D, ss = 1:D\n",
    "    @constraint(m,u[1,s,ss] == 1/D^2 *sum( u[1,t,tt] for t=1:D, tt=1:D))\n",
    "end\n",
    "    ### u2 and v1 are d1 measurable - i.e. does not differentiate on ss\n",
    "for s = 1:D, ss = 1:D\n",
    "    @constraint(m,u[2,s,ss] == 1/D *sum( u[2,s,tt] for tt=1:D))\n",
    "    @constraint(m,v[1,s,ss] == 1/D *sum( v[1,s,tt] for tt=1:D))\n",
    "end\n",
    "       \n",
    "optimize!(m)\n",
    "@show(objective_value(m))\n",
    "#round.(value.(u[1,:,:]),digits=2)\n",
    "                       "
   ]
  },
  {
   "cell_type": "markdown",
   "metadata": {
    "deletable": false,
    "editable": false,
    "heading_collapsed": true,
    "nbgrader": {
     "cell_type": "markdown",
     "checksum": "12a4988c66073584a85f7e5b6181941c",
     "grade": false,
     "grade_id": "cell-46567b87fe7293",
     "locked": true,
     "schema_version": 3,
     "solution": false,
     "task": false
    }
   },
   "source": [
    "### Question 2.4 : anticipative bound\n",
    "\n",
    "By suppressing constraints in the splitted version, find the lower-bound given by the anticipative approach.\n"
   ]
  },
  {
   "cell_type": "markdown",
   "metadata": {},
   "source": [
    "###### Solution \n",
    "\n",
    "We should relax all the measurability constraints in the above code \n",
    "\n",
    "$i.e.~$ I am going to assume that $u_1, u_2 ~\\&~ v_1$ are measurable w.r.t. both $d_1 ~\\&~ d_2$\n",
    "\n",
    "Thus, deleting all the follwing constraints:-\n",
    "1. @constraint(m,u[1,s,ss] == 1/D^2 *sum( u[1,t,tt] for t=1:D, tt=1:D))\n",
    "2. @constraint(m,u[2,s,ss] == 1/D *sum( u[2,s,tt] for tt=1:D))\n",
    "3. @constraint(m,v[1,s,ss] == 1/D *sum( v[1,s,tt] for tt=1:D))"
   ]
  },
  {
   "cell_type": "code",
   "execution_count": 24,
   "metadata": {
    "deletable": false,
    "hidden": true,
    "nbgrader": {
     "cell_type": "code",
     "checksum": "fccf0241c415e684c4b9598f9eaeb843",
     "grade": true,
     "grade_id": "cell-58334dbf230fe6",
     "locked": false,
     "points": 0,
     "schema_version": 3,
     "solution": true,
     "task": false
    }
   },
   "outputs": [
    {
     "name": "stdout",
     "output_type": "stream",
     "text": [
      "objective_value(m) = -10.11999999999997\n"
     ]
    },
    {
     "data": {
      "text/plain": [
       "10×10 Matrix{Float64}:\n",
       " 1.0  1.0  1.0  1.0  1.0  1.0  1.0  2.0  3.0  4.0\n",
       " 2.0  2.0  2.0  2.0  2.0  2.0  2.0  3.0  4.0  5.0\n",
       " 3.0  3.0  3.0  3.0  3.0  3.0  3.0  4.0  5.0  6.0\n",
       " 4.0  4.0  4.0  4.0  4.0  4.0  4.0  5.0  6.0  7.0\n",
       " 5.0  5.0  5.0  5.0  5.0  5.0  5.0  6.0  7.0  7.0\n",
       " 6.0  6.0  6.0  6.0  6.0  6.0  6.0  7.0  7.0  7.0\n",
       " 7.0  7.0  7.0  7.0  7.0  7.0  7.0  7.0  7.0  7.0\n",
       " 7.0  7.0  7.0  7.0  7.0  7.0  7.0  7.0  7.0  7.0\n",
       " 7.0  7.0  7.0  7.0  7.0  7.0  7.0  7.0  7.0  7.0\n",
       " 7.0  7.0  7.0  7.0  7.0  7.0  7.0  7.0  7.0  7.0"
      ]
     },
     "execution_count": 24,
     "metadata": {},
     "output_type": "execute_result"
    }
   ],
   "source": [
    "T = 2\n",
    "\n",
    "d = zeros(T,D,D)   # d(t,s,ss) is the demand for scenario (s,ss)\n",
    "for s = 1:D, ss = 1:D\n",
    "    d[1,s,ss] = s\n",
    "    d[2,s,ss] = ss\n",
    "end\n",
    "\n",
    "\n",
    "m = Model(with_optimizer(OPTIMIZER))\n",
    "\n",
    "@variables(m,begin\n",
    "    0<= u[1:T,1:D,1:D] <= U    # bought flowers at beginning of day t\n",
    "    v[1:T,1:D,1:D] >= 0        # sold flowers during day t\n",
    "    end)     \n",
    "\n",
    "@objective(m, Min, 1/D^2*sum(c*u[t,s,ss]-p*v[t,s,ss] for t = 1:T, s = 1:D, ss = 1:D))\n",
    "\n",
    "for t = 1:T, s = 1:D, ss = 1:D\n",
    "    @constraint(m, v[t,s,ss] <= d[t,s,ss])                        # we sell no more than demand\n",
    "    @constraint(m, sum(v[tt,s,ss]-u[tt,s,ss] for tt=1:t) <= 0)    # we sell no more than stock\n",
    "end\n",
    "       \n",
    "optimize!(m)\n",
    "@show(objective_value(m))\n",
    "round.(value.(u[1,:,:]),digits=2)"
   ]
  },
  {
   "cell_type": "code",
   "execution_count": null,
   "metadata": {
    "deletable": false,
    "editable": false,
    "nbgrader": {
     "cell_type": "code",
     "checksum": "5badca83a60e7715990f7905697e52f0",
     "grade": true,
     "grade_id": "cell-b3785c745f60287c",
     "locked": true,
     "points": 1,
     "schema_version": 3,
     "solution": false,
     "task": false
    }
   },
   "outputs": [],
   "source": []
  },
  {
   "cell_type": "markdown",
   "metadata": {
    "deletable": false,
    "editable": false,
    "nbgrader": {
     "cell_type": "markdown",
     "checksum": "2b8b6b970d459e52adf50368d8309884",
     "grade": false,
     "grade_id": "cell-c1ab6ac9bbc6270",
     "locked": true,
     "schema_version": 3,
     "solution": false,
     "task": false
    }
   },
   "source": [
    "### Question 2.5 : two-stage bound\n",
    "\n",
    "By suppressing constraints in the splitted version, find the lower-bound given by the 2 stage-approach."
   ]
  },
  {
   "cell_type": "markdown",
   "metadata": {},
   "source": [
    "###### Solution \n",
    "\n",
    "In the **two-stage** structure, we still have that $u_1$ is deterministic but not the other variables. \n",
    "\n",
    "$i.e.~$ I am going to assume that $u_2 ~\\&~ v_1$ are measurable w.r.t. both $d_1 ~\\&~ d_2$\n",
    "\n",
    "Thus, deleting the follwing constraints:-\n",
    "1. @constraint(m,u[2,s,ss] == 1/D *sum( u[2,s,tt] for tt=1:D))\n",
    "2. @constraint(m,v[1,s,ss] == 1/D *sum( v[1,s,tt] for tt=1:D))"
   ]
  },
  {
   "cell_type": "code",
   "execution_count": 28,
   "metadata": {
    "deletable": false,
    "nbgrader": {
     "cell_type": "code",
     "checksum": "5f930f15595243e12f6b0a5414bf62f3",
     "grade": true,
     "grade_id": "cell-9610973aae",
     "locked": false,
     "points": 2,
     "schema_version": 3,
     "solution": true,
     "task": false
    }
   },
   "outputs": [
    {
     "name": "stdout",
     "output_type": "stream",
     "text": [
      "objective_value(m) = -9.769999999999959\n"
     ]
    },
    {
     "data": {
      "text/plain": [
       "10×10 Matrix{Float64}:\n",
       " 0.0  0.0  0.0  0.0  0.0  0.0  1.0  2.0  3.0  4.0\n",
       " 0.0  0.0  0.0  0.0  0.0  1.0  2.0  3.0  4.0  5.0\n",
       " 0.0  0.0  0.0  0.0  1.0  2.0  3.0  4.0  5.0  6.0\n",
       " 0.0  0.0  0.0  1.0  2.0  3.0  4.0  5.0  6.0  7.0\n",
       " 0.0  0.0  1.0  2.0  3.0  4.0  5.0  6.0  7.0  7.0\n",
       " 0.0  1.0  2.0  3.0  4.0  5.0  6.0  7.0  7.0  7.0\n",
       " 1.0  2.0  3.0  4.0  5.0  6.0  7.0  7.0  7.0  7.0\n",
       " 1.0  2.0  3.0  4.0  5.0  6.0  7.0  7.0  7.0  7.0\n",
       " 1.0  2.0  3.0  4.0  5.0  6.0  7.0  7.0  7.0  7.0\n",
       " 1.0  2.0  3.0  4.0  5.0  6.0  7.0  7.0  7.0  7.0"
      ]
     },
     "execution_count": 28,
     "metadata": {},
     "output_type": "execute_result"
    }
   ],
   "source": [
    "T = 2\n",
    "\n",
    "d = zeros(T,D,D) # d(t,s,ss) is the demand for scenario (s,ss)\n",
    "for s = 1:D, ss = 1:D\n",
    "    d[1,s,ss] = s\n",
    "    d[2,s,ss] = ss\n",
    "end\n",
    "\n",
    "\n",
    "m = Model(with_optimizer(OPTIMIZER))\n",
    "\n",
    "@variables(m,begin\n",
    "    0<= u[1:T,1:D,1:D] <= U  # bought flowers at beginning of day t\n",
    "    v[1:T,1:D,1:D] >= 0      # sold flowers during day t\n",
    "    end)     \n",
    "\n",
    "@objective(m, Min, 1/D^2*sum(c*u[t,s,ss]-p*v[t,s,ss] for t = 1:T, s = 1:D, ss = 1:D))\n",
    "\n",
    "for t = 1:T, s = 1:D, ss = 1:D\n",
    "    @constraint(m, v[t,s,ss] <= d[t,s,ss])                     # we sell no more than demand\n",
    "    @constraint(m, sum(v[tt,s,ss]-u[tt,s,ss] for tt=1:t) <= 0) # we sell no more than stock\n",
    "end\n",
    "\n",
    "    ### u1 is deterministic - i.e. the same for all scenarios\n",
    "for s = 1:D, ss = 1:D\n",
    "    @constraint(m,u[1,s,ss] == 1/D^2 *sum( u[1,t,tt] for t=1:D, tt=1:D))\n",
    "end\n",
    "\n",
    "optimize!(m)\n",
    "@show(objective_value(m))\n",
    "round.(value.(u[2,:,:]),digits=2)"
   ]
  },
  {
   "cell_type": "code",
   "execution_count": null,
   "metadata": {
    "deletable": false,
    "editable": false,
    "nbgrader": {
     "cell_type": "code",
     "checksum": "0e71e5f51c20204d47ba8d8c764e6698",
     "grade": true,
     "grade_id": "cell-9793d4b063ba0d65",
     "locked": true,
     "points": 1,
     "schema_version": 3,
     "solution": false,
     "task": false
    }
   },
   "outputs": [],
   "source": []
  },
  {
   "cell_type": "markdown",
   "metadata": {
    "deletable": false,
    "editable": false,
    "nbgrader": {
     "cell_type": "markdown",
     "checksum": "c9496fd72f78c0086385376b0f1a5ae5",
     "grade": false,
     "grade_id": "cell-495d655eb6ce3a86",
     "locked": true,
     "schema_version": 3,
     "solution": false,
     "task": false
    }
   },
   "source": [
    "## Question 3 : Heuristics and bounds in long horizon\n",
    "\n",
    "We assume now that we work on a week, that is $T=10$. \n",
    "\n",
    "### Question 3.1  \n",
    "how many variables have the extended formulation ? "
   ]
  },
  {
   "cell_type": "markdown",
   "metadata": {
    "deletable": false,
    "nbgrader": {
     "cell_type": "markdown",
     "checksum": "6ca267934694db608061c4e1cf43bf54",
     "grade": true,
     "grade_id": "cell-0a658c4c5bba62a1",
     "locked": false,
     "points": 1,
     "schema_version": 3,
     "solution": true,
     "task": false
    }
   },
   "source": [
    "###### Solution \n",
    "It's exactly $12222222221$ variables.\n",
    "\n",
    "**Explanation**\n",
    "For $T = 2$ \n",
    "we have:-  (I used the same notations as in $Q2$)\n",
    "1. 1 variable at the beginning of the $1^{st}$ day  ($u$)\n",
    "2. 10 variables at the end of the $1^{st}$ day   ($w_i$)\n",
    "3. 10 variables at the beginning of the $2^{nd}$ day   ($z_i$)\n",
    "4. 100 variables at the end of the $2^{nd}$ day  ($v_{ij}$)\n",
    "\n",
    "Thus, a sum equal to 121 \n",
    "\n",
    "Repeating the same process for $T = 10$, we have the result.\n",
    "\n",
    "**Using the approximation results in the lecture notes**\n",
    "1. $T = 10$\n",
    "2. $n_d = 10$ (10 scenarios for each day)\n",
    "3. $n_u = 2$  ($U_t(x) = \\{u,v\\}$ s.t. $u \\equiv$ how much we bought at the beginning of the day $t$ & $v \\equiv$ how much we sold at the end of the day $t$)\n",
    "\n",
    "Thus, # variables $\\approx ~ 2(10^{10})$ "
   ]
  },
  {
   "cell_type": "markdown",
   "metadata": {
    "deletable": false,
    "editable": false,
    "nbgrader": {
     "cell_type": "markdown",
     "checksum": "e4a7baf8d0c3a07c35757322019157e2",
     "grade": false,
     "grade_id": "cell-0a4a7340321e708c",
     "locked": true,
     "schema_version": 3,
     "solution": false,
     "task": false
    }
   },
   "source": [
    "### Question 3.2 : anticipative bound\n",
    "\n",
    "Estimate (by Monte Carlo) the lower-bound given by the anticipative approach."
   ]
  },
  {
   "cell_type": "code",
   "execution_count": 29,
   "metadata": {
    "deletable": false,
    "editable": false,
    "nbgrader": {
     "cell_type": "code",
     "checksum": "d14c9d4f4225e102e8a90516d336028d",
     "grade": false,
     "grade_id": "cell-89d98ae49e29ddcc",
     "locked": true,
     "schema_version": 3,
     "solution": false,
     "task": false
    }
   },
   "outputs": [],
   "source": [
    "T = 10\n",
    "Nmc = 10^3\n",
    "\n",
    "## We define an helper function that print a Monte Carlo estimate from a vector of results\n",
    "function mc(res, print_opt=true)\n",
    "    Nmc = length(res)\n",
    "    print_opt && print(round(mean(res);digits=2),\" +/- \",round(1.96*std(res)/sqrt(Nmc);digits=2)) \n",
    "    return round(mean(res);digits=2)\n",
    "end\n",
    "\n",
    "### scenarios of Monte-Carlo test for fair comparison\n",
    "using Random\n",
    "Random.seed!(0)\n",
    "scenarios_mc = rand(1:D,(Nmc,T)); # generate Nmc scenarios of demand"
   ]
  },
  {
   "cell_type": "markdown",
   "metadata": {},
   "source": [
    "###### Solution \n",
    "\n",
    "I'm going to formulate the problem as a linear program and solve $Nmc = 1000$ deterministic problems by using the extended formulation\n",
    "\n",
    "For each scenario $j = 1 \\dots \\dots Nmc$, the problem reads \n",
    "$$Min ~ \\sum_{i = 1}^{T} cu_i - pv_i$$\n",
    "\n",
    "Subject to \n",
    "\n",
    "$\\forall ~ i = 1 \\dots\\dots T$\n",
    "\\begin{cases}\n",
    "u_i \\leq U \\\\\n",
    "v_i \\leq \\text{scenarios}_{ij} \n",
    "\\end{cases}\n",
    "$$v_1 \\leq u_1$$\n",
    "$$v_i \\leq u_i + \\sum_{s = 1}^{i-1} u_s - v_s ~~~~~ \\forall i = 2 \\dots T$$\n",
    "\n",
    "Where, \n",
    "\n",
    "1. $u_i \\equiv $ Quantity of flowers to be bought at the beginning of the $i^{th}$ day \n",
    "2. $v_i \\equiv$ Quantity of sold flowers at the end of the $i^{th}$ day"
   ]
  },
  {
   "cell_type": "code",
   "execution_count": 36,
   "metadata": {
    "deletable": false,
    "nbgrader": {
     "cell_type": "code",
     "checksum": "98675400e680841c4b755fbec3d58d3e",
     "grade": true,
     "grade_id": "cell-4257c0aad137f6d8",
     "locked": false,
     "points": 1,
     "schema_version": 3,
     "solution": true,
     "task": false
    },
    "scrolled": false
   },
   "outputs": [
    {
     "name": "stdout",
     "output_type": "stream",
     "text": [
      "-53.27 +/- 0.52\n",
      "Objective value = -53.27"
     ]
    }
   ],
   "source": [
    "function anticipative(scenarios)\n",
    "    #compute the anticipative bound obtained from scenarios in d\n",
    "    res = zeros(Nmc,1) # store the value of each scenario\n",
    "\n",
    "    for j=1:Nmc\n",
    "        \n",
    "        # Defining the MODEL\n",
    "        m = Model(with_optimizer(OPTIMIZER))\n",
    "        \n",
    "        # Variables \n",
    "        @variable(m,u[1:T] >= 0)     # Quantity of flowers to be bought at the beginning of the 𝑖𝑡ℎ day\n",
    "        @variable(m,v[1:T] >= 0)     # Quantity of sold flowers at the end of the  𝑖𝑡ℎ  day\n",
    "        \n",
    "        # Objective Function \n",
    "        @objective(m,Min,sum(c*u[i] - p*v[i] for i=1:T))   # Minimizing the COST function \n",
    "        \n",
    "        # Constraints \n",
    "        @constraint(m,v[1] <= u[1])                     # At the 1st day, we can't sell more than what we've already bought \n",
    "        for i=1:T\n",
    "            @constraint(m, u[i] <= U)                   # At each day, we can't buy more than 7 flowers \n",
    "            @constraint(m, v[i] <= scenarios[j,i])      # At each day, we can't sell more than the demand \n",
    "        end\n",
    "        \n",
    "        # From the 2nd day, we can't sell more than what we bought at the beginning of the day in addition to \n",
    "        #                     the remaining flowers from the past days \n",
    "        for i=2:T\n",
    "            @constraint(m, v[i] <= u[i] + sum(u[s]-v[s] for s=1:i-1))  \n",
    "        end\n",
    "\n",
    "        optimize!(m)\n",
    "        res[j] = objective_value(m)     # Inserting the objective value for each scenario j \n",
    "    end            \n",
    "\n",
    "    return mc(res)\n",
    "end\n",
    "\n",
    "O = anticipative(scenarios_mc)\n",
    "println()\n",
    "print(\"Objective value = \",O)"
   ]
  },
  {
   "cell_type": "code",
   "execution_count": null,
   "metadata": {
    "deletable": false,
    "editable": false,
    "nbgrader": {
     "cell_type": "code",
     "checksum": "1a1df7c99810785b0f0e9e867af42939",
     "grade": true,
     "grade_id": "cell-36b0afc0e6c508a5",
     "locked": true,
     "points": 1,
     "schema_version": 3,
     "solution": false,
     "task": false
    }
   },
   "outputs": [],
   "source": []
  },
  {
   "cell_type": "markdown",
   "metadata": {
    "deletable": false,
    "editable": false,
    "nbgrader": {
     "cell_type": "markdown",
     "checksum": "d2c94846f2e11d8d932810ca0858edd3",
     "grade": false,
     "grade_id": "cell-7a4ea76dc5e3bbe4",
     "locked": true,
     "schema_version": 3,
     "solution": false,
     "task": false
    }
   },
   "source": [
    "### Question 3.3 Writing a simulator\n",
    "\n",
    "Write a simulator that evaluate a policy over a given set of scenarios.\n",
    "\n",
    "A policy is a function taking as argument $(t,x)$, $t$ being the day, $x$ the amount of newspaper in stock at the beginning of day $t$ and return $u$ the quantity of newspaper bought in the morning of day $t$. The quantity of newspaper sold during day $t$ will be computed as $\\min(x+u,d)$. \n",
    "\n"
   ]
  },
  {
   "cell_type": "markdown",
   "metadata": {},
   "source": [
    "###### Solution \n",
    "\n",
    "I'm going to compute the optimal cost for each scenario ($Nmc = 1000$ scenarios) and then return the value of the empirical cost by using monte carlo \n",
    "\n",
    "For each scenario $i = 1 \\dots \\dots Nmc$ \n",
    "\n",
    "$$costs ~=~ \\sum_{j = 1}^{T} cu_j - p \\times min(S_j + u_j, scenarios_{ij})$$\n",
    "\n",
    "Where, \n",
    "\n",
    "1. The control $u_j$ is to be determined by using a specific policy \n",
    "2. The stock $S_j$ is equal to 0 at the beginning of the $1^{st}$ day ($i.e. ~ S_1 = 0$), then from the $2^{nd}$ day it will be updated using the following formula $$S_{j + 1} = s_j + u_j - min(S_j + u_j, scenarios_{ij}) ~~~ \\forall ~ j = 1 \\dots (T-1)$$"
   ]
  },
  {
   "cell_type": "code",
   "execution_count": 67,
   "metadata": {
    "deletable": false,
    "nbgrader": {
     "cell_type": "code",
     "checksum": "f0b2afafc0fdfe756376308bc55613d5",
     "grade": true,
     "grade_id": "cell-07bed3ae31d0ed0d",
     "locked": false,
     "points": 0,
     "schema_version": 3,
     "solution": true,
     "task": false
    }
   },
   "outputs": [
    {
     "data": {
      "text/plain": [
       "simulator (generic function with 1 method)"
      ]
     },
     "execution_count": 67,
     "metadata": {},
     "output_type": "execute_result"
    }
   ],
   "source": [
    "function simulator(scenarios,policy)\n",
    "    costs = zeros(Nmc) # vector of total cost for each of the Nmc scenarios    \n",
    "    u = zeros(T)\n",
    "    \n",
    "    for i=1:Nmc               \n",
    "        S = 0                      # The stock (S) at the beginning of the 1st day is equal to 0 \n",
    "        for j=1:T\n",
    "            u[j] = policy(j, S)    # Determining the control u for each day j by using a specific policy \n",
    "            costs[i] = costs[i] + (c*u[j] - p*min(S + u[j], scenarios[i,j]))    # Computing the cost for each day j \n",
    "            S = S + u[j] - min(S + u[j], scenarios[i,j])                        # updating the stock for the next day \n",
    "            S = Int(round(S))\n",
    "        end\n",
    "    end\n",
    "            \n",
    "    return mc(costs,false) # return the mean and print the estimation of costs\n",
    "end\n",
    "\n",
    "#simulator(scenarios_mc,control_2S)"
   ]
  },
  {
   "cell_type": "code",
   "execution_count": null,
   "metadata": {
    "deletable": false,
    "editable": false,
    "nbgrader": {
     "cell_type": "code",
     "checksum": "ab79c14aa06edbb5804c2462e9e29212",
     "grade": true,
     "grade_id": "cell-e48bc6b9d60217f0",
     "locked": true,
     "points": 1,
     "schema_version": 3,
     "solution": false,
     "task": false
    }
   },
   "outputs": [],
   "source": []
  },
  {
   "cell_type": "markdown",
   "metadata": {},
   "source": [
    "### Question 3.4\n",
    "\n",
    "Evaluate the heuristic consisting in buying the same amount $u$ of flower everyday, for $u = 0..m$, and give an upper bound to the problem."
   ]
  },
  {
   "cell_type": "markdown",
   "metadata": {},
   "source": [
    "###### Solution \n",
    "\n",
    "For any value of the control $u$ your input, the defined policy (same_u) will just return your input.\n",
    "\n",
    "Then, using the **simulator** we got the cost. \n",
    "\n",
    "Indeed, this policy is an upper bound to the problem"
   ]
  },
  {
   "cell_type": "code",
   "execution_count": 74,
   "metadata": {
    "deletable": false,
    "nbgrader": {
     "cell_type": "code",
     "checksum": "128a3c9e3b503e91463447d0b93ee1ca",
     "grade": true,
     "grade_id": "cell-a3b61f73f1555195",
     "locked": false,
     "points": 1,
     "schema_version": 3,
     "solution": true,
     "task": false
    }
   },
   "outputs": [
    {
     "name": "stdout",
     "output_type": "stream",
     "text": [
      "stdin> 6\n"
     ]
    },
    {
     "data": {
      "text/plain": [
       "same_u (generic function with 1 method)"
      ]
     },
     "execution_count": 74,
     "metadata": {},
     "output_type": "execute_result"
    }
   ],
   "source": [
    "m = readline()\n",
    "m = parse(Float64, m)\n",
    "\n",
    "function same_u(t, x)    \n",
    "    return m\n",
    "end"
   ]
  },
  {
   "cell_type": "markdown",
   "metadata": {},
   "source": [
    "An upper bound:- "
   ]
  },
  {
   "cell_type": "code",
   "execution_count": 75,
   "metadata": {},
   "outputs": [
    {
     "name": "stdout",
     "output_type": "stream",
     "text": [
      "Objective Value = -41.86"
     ]
    }
   ],
   "source": [
    "O = simulator(scenarios_mc,same_u)\n",
    "print(\"Objective Value = \", O)"
   ]
  },
  {
   "cell_type": "markdown",
   "metadata": {
    "deletable": false,
    "editable": false,
    "nbgrader": {
     "cell_type": "markdown",
     "checksum": "a6d9faa41eac3bde170538fc20289589",
     "grade": false,
     "grade_id": "cell-eaeba837ba11dc14",
     "locked": true,
     "schema_version": 3,
     "solution": false,
     "task": false
    }
   },
   "source": [
    "### Question 3.5\n",
    "\n",
    "Evaluate (by Monte Carlo) a model predictive approach of the problem using the expectation of demand as prediction. Compare it with using the best constant $u$."
   ]
  },
  {
   "cell_type": "markdown",
   "metadata": {},
   "source": [
    "###### Solution \n",
    "\n",
    "First of all, recall that the mean of the Uniform Distribution $U\\{a,b\\}$ is $\\frac{a+b}{2}$\n",
    "\n",
    "Thus, the expectation of the demand which has a uniform distribution $U\\{1,D\\}$ is $E = \\frac{1 + D}{2}$\n",
    "\n",
    "Now, using the MPC, the demand starting from $t$ is equal to $$d = E \\times (T - t + 1)$$\n",
    "\n",
    "Thus, the MPC policy works as follows \n",
    "\n",
    "$$MPC(t,stock) =\n",
    "\\begin{cases}\n",
    "d - stock  & \\text{if} ~~ d - stock > U \\\\\n",
    "U & \\text{Otherwise} \n",
    "\\end{cases} $$"
   ]
  },
  {
   "cell_type": "code",
   "execution_count": 46,
   "metadata": {
    "deletable": false,
    "nbgrader": {
     "cell_type": "code",
     "checksum": "073865a264d92e31d8f8fb04a8e4da82",
     "grade": true,
     "grade_id": "cell-d5bf41af0698c384",
     "locked": false,
     "points": 0,
     "schema_version": 3,
     "solution": true,
     "task": false
    }
   },
   "outputs": [
    {
     "data": {
      "text/plain": [
       "MPC_control (generic function with 1 method)"
      ]
     },
     "execution_count": 46,
     "metadata": {},
     "output_type": "execute_result"
    }
   ],
   "source": [
    "## Define an MPC policy using the mean\n",
    "function MPC_control(t,stock)\n",
    "    # return the value of the MPC control at time t starting from stock\n",
    "    E = (1 + D)/2\n",
    "    d = E*(T - t + 1)\n",
    "    return min(U, d - stock)\n",
    "end"
   ]
  },
  {
   "cell_type": "code",
   "execution_count": 47,
   "metadata": {
    "deletable": false,
    "editable": false,
    "nbgrader": {
     "cell_type": "code",
     "checksum": "5389955bf56bcb945a60441e1e24c189",
     "grade": false,
     "grade_id": "cell-98b34c5a5ae583dd",
     "locked": true,
     "schema_version": 3,
     "solution": false,
     "task": false
    }
   },
   "outputs": [
    {
     "data": {
      "text/plain": [
       "-50.87"
      ]
     },
     "execution_count": 47,
     "metadata": {},
     "output_type": "execute_result"
    }
   ],
   "source": [
    "simulator(scenarios_mc,MPC_control)"
   ]
  },
  {
   "cell_type": "code",
   "execution_count": 76,
   "metadata": {},
   "outputs": [
    {
     "data": {
      "text/plain": [
       "-42.2"
      ]
     },
     "execution_count": 76,
     "metadata": {},
     "output_type": "execute_result"
    }
   ],
   "source": [
    "# For the aim of comparison between the same_u and the MPC ploices with control value = 5.5 in the same_u policy \n",
    "m = 5.5 \n",
    "function same_u(t, x)    \n",
    "    return m\n",
    "end\n",
    "simulator(scenarios_mc,same_u)"
   ]
  },
  {
   "cell_type": "markdown",
   "metadata": {},
   "source": [
    "###### Comparison \n",
    "MPC is more efficient than choosing the same control which is logical since it has more flexibility of choosing $u$ for each $t$ and for each scenario."
   ]
  },
  {
   "cell_type": "code",
   "execution_count": null,
   "metadata": {
    "deletable": false,
    "editable": false,
    "nbgrader": {
     "cell_type": "code",
     "checksum": "45ed681d90381bb38bcce3c53308d8eb",
     "grade": true,
     "grade_id": "cell-a6d352264daa6ebc",
     "locked": true,
     "points": 2,
     "schema_version": 3,
     "solution": false,
     "task": false
    }
   },
   "outputs": [],
   "source": []
  },
  {
   "cell_type": "markdown",
   "metadata": {
    "deletable": false,
    "editable": false,
    "nbgrader": {
     "cell_type": "markdown",
     "checksum": "7defb5cadb2aab681e6f21f7e529b6a1",
     "grade": false,
     "grade_id": "cell-227cbcddf027968a",
     "locked": true,
     "schema_version": 3,
     "solution": false,
     "task": false
    }
   },
   "source": [
    "### Question 3.6 \n",
    "\n",
    "Give an estimated lower bound obtained from a two-stage approximation. "
   ]
  },
  {
   "cell_type": "markdown",
   "metadata": {},
   "source": [
    "Two-stage approximation can be implemented by the following linear program \n",
    "\n",
    "$$Min ~~ P\\sum_{i = 1}^{Nmc} \\sum_{j = 1}^{T} cu_{ij} - pv_{ij}$$\n",
    "\n",
    "Subject to \n",
    "\n",
    "$\\forall i = 1 \\dots \\dots Nmc, \\forall j = 1 \\dots \\dots T$\n",
    "\\begin{cases}\n",
    "u_{ij} \\leq U ~~~~~~ \\dots \\dots (1) \\\\\n",
    "v_{ij} \\leq scenarios_{ij} ~~~~~~ \\dots \\dots (2)\n",
    "\\end{cases}\n",
    "$\\forall i = 1 \\dots \\dots Nmc$\n",
    "\\begin{cases}\n",
    "u_{i1} = P\\sum_{s = 1}^{Nmc} u_{s1}  ~~~~~~ \\dots \\dots (3) \\\\ \n",
    "v_{i1} \\leq u_{i1}        ~~~~~~ \\dots \\dots (4)\n",
    "\\end{cases}\n",
    "$\\forall i 1 \\dots \\dots Nmc, j = 1 \\dots \\dots (T-1)$\n",
    "$$v_{i,j+1} \\leq u_{i, j+1} + \\sum_{s = 1}^{j} u_{is} - v_{is}  ~~~~~~ \\dots \\dots (5)$$\n",
    "\n",
    "\n",
    "Where,\n",
    "1. $P = \\frac{1}{Nmc}$ \n",
    "2. $u_{ij} \\equiv $ Quantity of flowers to be bought at the beginning of the $i^{th}$ day for the $j^{th}$ scenario  \n",
    "3. $v_{ij} \\equiv$ Quantity of sold flowers at the end of the $i^{th}$ day for the $j^{th}$ scenario \n",
    "\n",
    "**Interpretation of the Constraints**\n",
    "1. Constraints (1): We can't buy more that U flowers in any day and in any scenario.\n",
    "2. Constraint (2): We can't sell more than the demand in any day and in any scenario.\n",
    "3. Constraints (3): $u_{i1}$ the contorl of the $1^{st}$ day (how much to bought at the beginning of the $1^{st}$ day) is **deterministic** for each scenario $i$\n",
    "4. Constraints (4): At the $1^{st}$ day, we can't sell more than what we have bought at the beginning of the $1^{st}$ day.\n",
    "6. Constraint (5): For each scenario $i$, and from the 2nd day, we can't sell more than what we bought at the beginning of the day in addition to the remaining flowers from the past days. "
   ]
  },
  {
   "cell_type": "code",
   "execution_count": 58,
   "metadata": {
    "deletable": false,
    "nbgrader": {
     "cell_type": "code",
     "checksum": "cf176c1dd951f507a45ca7af9fcb1036",
     "grade": true,
     "grade_id": "cell-c4452ab66e0de663",
     "locked": false,
     "points": 2,
     "schema_version": 3,
     "solution": true,
     "task": false
    }
   },
   "outputs": [
    {
     "data": {
      "text/plain": [
       "two_stage (generic function with 1 method)"
      ]
     },
     "execution_count": 58,
     "metadata": {},
     "output_type": "execute_result"
    }
   ],
   "source": [
    "function two_stage(scenarios)\n",
    "    \n",
    "    P = 1/Nmc\n",
    "    \n",
    "    # Defining the MODEL \n",
    "    m = Model(with_optimizer(OPTIMIZER))\n",
    "    \n",
    "    # Variables \n",
    "    @variable(m, u[1:Nmc,1:T] >= 0)\n",
    "    @variable(m, v[1:Nmc,1:T] >= 0)\n",
    "    \n",
    "    # Objective Function \n",
    "    @objective(m, Min, P*sum(c*u[i,j] - p*v[i,j] for i=1:Nmc, j=1:T))   # Minimizing the COST function \n",
    "\n",
    "    # Constraints \n",
    "        for i=1:Nmc, j=1:T\n",
    "            @constraint(m, u[i,j] <= U)                    # We can't buy more than U flowers for any (i,j)\n",
    "            @constraint(m, v[i,j] <= scenarios[i,j])      # We can't sell more than the demand for any (i,j)  \n",
    "        end\n",
    "        \n",
    "        for i=1:Nmc\n",
    "            @constraint(m, u[i,1] == P*sum(u[s,1] for s=1:Nmc))   # u1 is deterministic for each scenario i\n",
    "            @constraint(m, v[i,1] <= u[i,1])                      # At the 1st day, we can't sell more than what we have bought \n",
    "        end\n",
    "    \n",
    "    # For each scenario 𝑖, and from the 2nd day, we can't sell more than what we bought at the beginning of the day\n",
    "    #                               in addition to the remaining flowers from the past days.\n",
    "        for i=1:Nmc, j=1:(T-1)\n",
    "            @constraint(m, v[i,j+1] <= u[i,j+1] + sum(u[i,s] - v[i,s] for s=1:j))\n",
    "        end\n",
    "    \n",
    "    optimize!(m)\n",
    "    return objective_value(m)\n",
    "          \n",
    "end"
   ]
  },
  {
   "cell_type": "code",
   "execution_count": 59,
   "metadata": {},
   "outputs": [
    {
     "data": {
      "text/plain": [
       "-53.27400000000202"
      ]
     },
     "execution_count": 59,
     "metadata": {},
     "output_type": "execute_result"
    }
   ],
   "source": [
    "two_stage(scenarios_mc)"
   ]
  },
  {
   "cell_type": "markdown",
   "metadata": {
    "deletable": false,
    "editable": false,
    "nbgrader": {
     "cell_type": "markdown",
     "checksum": "03c93d2f41b31f8615cf75e911d7d94c",
     "grade": false,
     "grade_id": "cell-e3a74fa7de9759e6",
     "locked": true,
     "schema_version": 3,
     "solution": false,
     "task": false
    }
   },
   "source": [
    "### Question 3.7 (Optional) \n",
    "\n",
    "Evaluate the repeated two-stage approach (start with a small amount of scenarios)."
   ]
  },
  {
   "cell_type": "code",
   "execution_count": null,
   "metadata": {
    "deletable": false,
    "nbgrader": {
     "cell_type": "code",
     "checksum": "63554dbc619beb24601e413313b58d12",
     "grade": true,
     "grade_id": "cell-d205f20d1559382a",
     "locked": false,
     "points": 2,
     "schema_version": 3,
     "solution": true,
     "task": false
    }
   },
   "outputs": [],
   "source": [
    "#YOUR CODE HERE\n",
    "error(\"to be implemented\")"
   ]
  },
  {
   "cell_type": "markdown",
   "metadata": {
    "deletable": false,
    "editable": false,
    "nbgrader": {
     "cell_type": "markdown",
     "checksum": "805e1f0f24829f2f2a922c29fbd14d44",
     "grade": false,
     "grade_id": "cell-4e67552157665362",
     "locked": true,
     "schema_version": 3,
     "solution": false,
     "task": false
    }
   },
   "source": [
    "## Question 4 Dynamic Programming\n",
    "\n",
    "\n",
    "### Question 4.1 : integrity of stock\n",
    "Show that the optimal stock at the end of day is integer and no more than $D$."
   ]
  },
  {
   "cell_type": "markdown",
   "metadata": {
    "deletable": false,
    "nbgrader": {
     "cell_type": "markdown",
     "checksum": "200a1a743109e1c8b7a4be6809355fb3",
     "grade": true,
     "grade_id": "cell-04d202f092582f3b",
     "locked": false,
     "points": 1,
     "schema_version": 3,
     "solution": true,
     "task": false
    }
   },
   "source": [
    "I tried solving this question. Unfortunately, I didn't get a complete proof of it \n",
    "\n",
    "However, I'll anyway write what I did\n",
    "\n",
    "1. For me I think we can use the following argument to prove it \n",
    "\"An optimal state trajectory is obtained by $x_{t+1} = \\psi_t^V(\\mathbf{x_t})$, with\"\n",
    "$$\\psi_t^V(x,d) \\in argmin_{y \\in \\mathbf{X_t}(x,d)} ~~ c_t(x,y,d) + V_{t+1}(y)$$\n",
    "2. Finding the values of \\Psi that minimizes the above argument implies the optimal values of $x$ since $x_{t+1} = \\psi_t^V(\\mathbf{x_t})$\n",
    "3. To find the minimizers of the above argument we should find the derivative w.r.t $y$ and calculate the values of $y$ with the derivative equals 0 \n",
    "\n",
    "$i.e.$ $$\\nabla_y c_t(x,y,d) + \\nabla_y V_{t+1}(y) = 0 ~~~~ \\forall t$$\n",
    "\n",
    "4. I came up with a formula for the function $c$ but I wasn't able for $V$ \n",
    "\n",
    "For $c$, \n",
    "\n",
    "$$c(x,y,d) = c(y - x + d) - p \\times min(y + d, d) $$\n",
    "$$~~~~~~~~~~~~~~~~~~~~~~~~ = c(y - x + d) - p \\begin{cases} y + d & \\text{If} ~ y < 0 \\\\ d & \\text{Otherwise} \\end{cases}$$\n",
    "$$~~~~~~~~~~~~~~~~~~~~~~~~~~~~~~~~~~~~~~~~~~~~~~~~~~~~ = c(y - x + d) - p \\begin{cases} (c - p)y - x + (1 - p)d & \\text{If} ~ y < 0 \\\\ cy - x + (1 - p)d & \\text{Otherwise} \\end{cases}$$\n",
    "\n",
    "\n",
    "Thus, $$\\nabla_y c(x,y,d) = \\begin{cases} c - p & \\text{If} ~ y < 0 \\\\ c & \\text{Otherwise} \\end{cases}$$"
   ]
  },
  {
   "cell_type": "markdown",
   "metadata": {
    "deletable": false,
    "editable": false,
    "nbgrader": {
     "cell_type": "markdown",
     "checksum": "3c73ccc17ba92ee5330dba3b813c3205",
     "grade": false,
     "grade_id": "cell-c154ad3c6c93d701",
     "locked": true,
     "schema_version": 3,
     "solution": false,
     "task": false
    }
   },
   "source": [
    "### Question 4.2 \n",
    "How many operations are required to solve the problem by Dynamic Programming ? How many scenarios for an extended formulation ?"
   ]
  },
  {
   "cell_type": "markdown",
   "metadata": {
    "deletable": false,
    "nbgrader": {
     "cell_type": "markdown",
     "checksum": "6befb058d3bfe063a340d4bbac243c08",
     "grade": true,
     "grade_id": "cell-574bee47c3dd9bfc",
     "locked": false,
     "points": 1,
     "schema_version": 3,
     "solution": true,
     "task": false
    }
   },
   "source": [
    "1. $T = 10$ \n",
    "2. From $Q4.1$, the state $~x \\in \\mathbb{X} = \\{0, 1, 2, \\dots \\dots, D\\} \\Rightarrow |\\mathbb{X}| = 11$\n",
    "3. The controls $~ u \\in [0,U]$. However, since again by $Q4.1,~ x$ takes just an integer values so indeed the control $u$ takes an integer values as well. Thus $u \\in \\mathbb{U} = \\{0, 1, 2, \\dots, U\\} \\Rightarrow |\\mathbb{U}| = 8$\n",
    "4. The demand $d \\in \\mathbb{D} = \\{1, 2, \\dots \\dots, D\\} \\Rightarrow |\\mathbb{D}| = 10$\n",
    "\n",
    "**Thus,** the number of operations is \n",
    "$$\\mathcal{O}(10 \\times 11 \\times 8 \\times 10)$$\n",
    "\n",
    "* According the number of **scenarios** for an extended formulation, it's $10 \\times 11 \\times 8 \\times 10 = 8800$ sceanrios)"
   ]
  },
  {
   "cell_type": "markdown",
   "metadata": {
    "deletable": false,
    "editable": false,
    "nbgrader": {
     "cell_type": "markdown",
     "checksum": "f4ea09bd829b057abfe256867f8be6b1",
     "grade": false,
     "grade_id": "cell-43b086759d6ccdcc",
     "locked": true,
     "schema_version": 3,
     "solution": false,
     "task": false
    }
   },
   "source": [
    "### Question 4.3\n",
    "Find the optimal value of the flower-girl problem by Dynamic Programming. Describe the optimal strategy."
   ]
  },
  {
   "cell_type": "markdown",
   "metadata": {},
   "source": [
    "###### Solution \n",
    "\n",
    "I implemented ,almost, algorithm 3 (Classical stochastic dynamic programming algorithm) presented in the lecture notes \n",
    "\n",
    "By using Bellman's equations\n",
    "$\\begin{cases}\n",
    "V_T(x) = K(x) \\\\\n",
    "\\hat{V}_t(x,d) = min_{y \\in \\mathbf{X_t}(x,d)} c_t(x, y, d) + V_{t+1}(y) \\\\ \n",
    "V_t(x) = \\mathbb{E}[\\hat{V}_t(x, d_t)]\n",
    "\\end{cases}$\n",
    "\n",
    "With:- \n",
    "$$c_t(x, y, d) = c_t(x, u, d) = cu - p \\times min(x + u, d)$$ \n",
    "Where, $y = x + u - d$ such that x: is the stock, u: is the control (How much flowers we will bought at the beginning of the day)\n",
    "\n",
    "**Now**, I defined an $(T + 1) \\times (D + 1)$ zero matrix $V$ (matrix of costs) such that:- \n",
    "1. For all $t = 1 \\dots \\dots T$, and for any $x$, $v_{tx}$ is the cost being at the $t^{th}$ day with stock $x$ at the beginning of the day.\n",
    "2. For $t = T + 1$ and for any $x$, $v_{T+1,x}$ is the cost being at the end of the day $T$ with stock $x$. Thus, $V_{T+1,x} = 0 = K(x), ~~ \\forall x$\n",
    "\n",
    "**Thus,** Bellman's equations read:- \n",
    "$\\begin{cases}\n",
    "V_{T+1}(x) = 0 \\\\\n",
    "\\hat{V}_t(x,d) = min_{u} ~~ [cu - p \\times min(x + u, d)] + V_{t+1}(x + u - d) \\\\ \n",
    "V_t(x) = P\\sum_{d = 1}^{D} \\hat{V}_t(x, d)\n",
    "\\end{cases}$\n",
    "\n",
    "Where, $P = \\frac{1}{D}$\n",
    "\n",
    "**Finally,** I have used the result from $Q4.1$, so that any stock with value $> D$ has a cost goes to $\\infty$"
   ]
  },
  {
   "cell_type": "code",
   "execution_count": 64,
   "metadata": {
    "deletable": false,
    "nbgrader": {
     "cell_type": "code",
     "checksum": "58d33c4999530e4800884cb707b3bcbf",
     "grade": true,
     "grade_id": "cell-fd78fc4534229a16",
     "locked": false,
     "points": 3,
     "schema_version": 3,
     "solution": true,
     "task": false
    }
   },
   "outputs": [
    {
     "name": "stdout",
     "output_type": "stream",
     "text": [
      "[-50.663, -52.063, -53.363, -54.563, -55.663, -56.663, -57.663, -58.663, -59.663, -60.663, -61.663]\n"
     ]
    }
   ],
   "source": [
    "V = zeros(T+1,D+1)    # Defining the matrix of costs with zeros, to be updated \n",
    "P = 1/D\n",
    "\n",
    "#(for t=1:T is indeed a \"Backward loop\" because of indexing the V as T-t+1, so if t = 1, then we compute V[T-1+1] = V[T])\n",
    "#                    the smae for t = T, V[T - T + 1] = V[1]\n",
    "for t=1:T                       # Loop of days  \n",
    "    for x=0:D                   # Loop of stocks \n",
    "        V_hat = Inf             # In order to minimize \n",
    "        for u=0:U      # Loop of controls (It's before the loop of demands, since we buy the flowers before knowing the demand)\n",
    "            z = 0\n",
    "            for d=1:D              # Loop of demands \n",
    "                y = x + u - d      # The new state (i.e. the stock for the next day)\n",
    "            \n",
    "# If the stock has a value between 1 and D, it yields for an optimal cost (Q4.1's result), so we compute the cost\n",
    "                if (y>0 && y<=D)        \n",
    "                    v = (c*u - p*min(x+u,d)) + V[T-t+2,y+1]\n",
    "# The stock can't be negative, so if y is non-positive, the cost computed by the same equation with V[.,1] (cost when x = 0) \n",
    "                elseif y <= 0\n",
    "                    v = (c*u - p*min(x+u,d)) + V[T-t+2,1]\n",
    "# If y > D, then we are sure that it isn't the optimal solution, so we can assume that the cost goes to infinty \n",
    "                else\n",
    "                    v = Inf\n",
    "                end\n",
    "                z += v             # Summing the costs for all d \n",
    "            end \n",
    "            if z < V_hat          # Choosing the best (minimum) cost for all the controls u \n",
    "                V_hat = z\n",
    "            end\n",
    "        end\n",
    "        V[T-t+1,x+1] = P*V_hat    # Updating the value function \n",
    "    end\n",
    "end\n",
    "\n",
    "println(round.(V[1,:], digits=3))      #Printing the costs for the 1st day for any stock x "
   ]
  },
  {
   "cell_type": "markdown",
   "metadata": {},
   "source": [
    "### Question 4.4\n",
    "\n",
    "Using function 'simulator' from Q3.3 check that the strategy computed in Q4.3 yield the optimal value also computed in Q4.3."
   ]
  },
  {
   "cell_type": "markdown",
   "metadata": {},
   "source": [
    "###### Solution \n",
    "\n",
    "I defined the policy (dynmaic_strategy(t,x)) so that I can use the simulator function \n",
    "\n",
    "The function works in two steps:-\n",
    "1. It computes the value function $V_{t+1,x}$ ($i.e. ~$ the cost of being at day $(t+1)$ for any possible value of the stock $x$)\n",
    "2. It uses the cost vector $V_{t+1,x}$ to compute the optimal contorl $u$ for the day $t$ with the speicifc stock $x$"
   ]
  },
  {
   "cell_type": "code",
   "execution_count": 68,
   "metadata": {
    "deletable": false,
    "nbgrader": {
     "cell_type": "code",
     "checksum": "7a1723821539d3a3513c7ebe8997fc92",
     "grade": true,
     "grade_id": "cell-55cea6b44e6f70af",
     "locked": false,
     "points": 1,
     "schema_version": 3,
     "solution": true,
     "task": false
    }
   },
   "outputs": [
    {
     "data": {
      "text/plain": [
       "dynamic_strategy (generic function with 1 method)"
      ]
     },
     "execution_count": 68,
     "metadata": {},
     "output_type": "execute_result"
    }
   ],
   "source": [
    "function dynamic_strategy(t,stock)\n",
    "    \n",
    "    V = zeros(T+1,D+1)\n",
    "    x = stock\n",
    "    Opt_u = 0\n",
    "\n",
    "# The code as in the previous block, it just terminates at (T-t) instead of T\n",
    "    for t=1:T-t\n",
    "        for x=0:D\n",
    "            V_hat = Inf\n",
    "            for u=0:U\n",
    "                z = 0\n",
    "                for d=1:D\n",
    "                    y = x + u - d\n",
    "                    if (y>0 && y<=D)\n",
    "                        v = (c*u - p*min(x+u,d)) + V[T-t+2,y+1]\n",
    "                    elseif y <= 0\n",
    "                        v = (c*u - p*min(x+u,d)) + V[T-t+2,1]\n",
    "                    else\n",
    "                        v = Inf\n",
    "                    end\n",
    "                    z += v\n",
    "                end\n",
    "                if z < V_hat\n",
    "                    V_hat = z\n",
    "                end\n",
    "            end\n",
    "            V[T-t+1,x+1] = V[T-t+1,x+1]+P*V_hat\n",
    "        end\n",
    "    end\n",
    "    \n",
    "# Now, we have the cost vector V[t+1,x] for any x, we will use it to compute \n",
    "#         the optimal control for the day t with the specific sctock x\n",
    "    V_hat1 = Inf\n",
    "    for u=0:U\n",
    "        z=0\n",
    "        for d=1:D\n",
    "            y = x + u - d\n",
    "            if (y>0 && y<=D)\n",
    "                v = (c*u - p*min(x+u,d)) + V[t+1,y+1]\n",
    "            elseif y <= 0\n",
    "                v = (c*u - p*min(x+u,d)) + V[t+1,1]\n",
    "            else\n",
    "                v = Inf\n",
    "            end\n",
    "            z += v\n",
    "        end\n",
    "        if z < V_hat1\n",
    "            V_hat1 = z\n",
    "            Opt_u = u          # Determining the optimal control \n",
    "        end\n",
    "    end\n",
    "            \n",
    "    return Opt_u        # returning the optimal control \n",
    "end"
   ]
  },
  {
   "cell_type": "code",
   "execution_count": 69,
   "metadata": {},
   "outputs": [
    {
     "data": {
      "text/plain": [
       "-50.42"
      ]
     },
     "execution_count": 69,
     "metadata": {},
     "output_type": "execute_result"
    }
   ],
   "source": [
    "# print(dynamic_strategy(10,5))\n",
    "simulator(scenarios_mc,dynamic_strategy)"
   ]
  },
  {
   "cell_type": "markdown",
   "metadata": {},
   "source": [
    "Indeed, the simulator yielded the same optimal value $V_{1,1}$ as in $Q4.3$ "
   ]
  },
  {
   "cell_type": "markdown",
   "metadata": {
    "deletable": false,
    "editable": false,
    "nbgrader": {
     "cell_type": "markdown",
     "checksum": "7f8b3571895b27c6eedc4387db4fceef",
     "grade": false,
     "grade_id": "cell-98a270364b55a462",
     "locked": true,
     "schema_version": 3,
     "solution": false,
     "task": false
    }
   },
   "source": [
    "Tested JuMP 0.20 / Julia 1.2"
   ]
  }
 ],
 "metadata": {
  "@webio": {
   "lastCommId": null,
   "lastKernelId": null
  },
  "kernelspec": {
   "display_name": "Julia 1.6.4",
   "language": "julia",
   "name": "julia-1.6"
  },
  "language_info": {
   "file_extension": ".jl",
   "mimetype": "application/julia",
   "name": "julia",
   "version": "1.6.4"
  },
  "toc": {
   "base_numbering": 1,
   "nav_menu": {},
   "number_sections": true,
   "sideBar": true,
   "skip_h1_title": false,
   "title_cell": "Table of Contents",
   "title_sidebar": "Contents",
   "toc_cell": true,
   "toc_position": {},
   "toc_section_display": true,
   "toc_window_display": false
  }
 },
 "nbformat": 4,
 "nbformat_minor": 1
}
